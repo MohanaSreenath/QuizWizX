{
 "cells": [
  {
   "cell_type": "code",
   "execution_count": 9,
   "metadata": {},
   "outputs": [
    {
     "name": "stdout",
     "output_type": "stream",
     "text": [
      "table created\n",
      "(21, 'mohan', 21)\n",
      "(21, 'mohan', 21)\n"
     ]
    }
   ],
   "source": [
    "import sqlite3\n",
    "con = sqlite3.connect('Database.db')\n",
    "sql=con.cursor()\n",
    "#sql.execute(\"Create table employee (id number(2), name varchar(10), age number(2))\")\n",
    "print(\"table created\")\n",
    "sql.execute(\"insert into employee values(21,'mohan',21)\")\n",
    "sql.execute(\"select * from employee\")\n",
    "rows=sql.fetchall()\n",
    "for rows in rows:\n",
    "    print(rows)\n",
    "con.commit()\n",
    "con.close()"
   ]
  },
  {
   "cell_type": "code",
   "execution_count": 10,
   "metadata": {},
   "outputs": [
    {
     "name": "stdout",
     "output_type": "stream",
     "text": [
      "21\n",
      "mohan\n",
      "21\n"
     ]
    }
   ],
   "source": [
    "for rows in rows:\n",
    "    print(rows)\n",
    "    "
   ]
  }
 ],
 "metadata": {
  "kernelspec": {
   "display_name": "Python 3",
   "language": "python",
   "name": "python3"
  },
  "language_info": {
   "codemirror_mode": {
    "name": "ipython",
    "version": 3
   },
   "file_extension": ".py",
   "mimetype": "text/x-python",
   "name": "python",
   "nbconvert_exporter": "python",
   "pygments_lexer": "ipython3",
   "version": "3.10.11"
  }
 },
 "nbformat": 4,
 "nbformat_minor": 2
}
